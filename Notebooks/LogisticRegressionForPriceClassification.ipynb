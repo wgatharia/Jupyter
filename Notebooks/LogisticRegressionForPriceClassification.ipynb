{
 "cells": [
  {
   "cell_type": "code",
   "execution_count": 1,
   "metadata": {},
   "outputs": [],
   "source": [
    "import pandas as pd\n",
    "import matplotlib.pyplot as plt"
   ]
  },
  {
   "cell_type": "code",
   "execution_count": 2,
   "metadata": {},
   "outputs": [
    {
     "data": {
      "text/html": [
       "<div>\n",
       "<style scoped>\n",
       "    .dataframe tbody tr th:only-of-type {\n",
       "        vertical-align: middle;\n",
       "    }\n",
       "\n",
       "    .dataframe tbody tr th {\n",
       "        vertical-align: top;\n",
       "    }\n",
       "\n",
       "    .dataframe thead th {\n",
       "        text-align: right;\n",
       "    }\n",
       "</style>\n",
       "<table border=\"1\" class=\"dataframe\">\n",
       "  <thead>\n",
       "    <tr style=\"text-align: right;\">\n",
       "      <th></th>\n",
       "      <th>longitude</th>\n",
       "      <th>latitude</th>\n",
       "      <th>housing_median_age</th>\n",
       "      <th>total_rooms</th>\n",
       "      <th>total_bedrooms</th>\n",
       "      <th>population</th>\n",
       "      <th>households</th>\n",
       "      <th>median_income</th>\n",
       "      <th>median_house_value</th>\n",
       "      <th>ocean_proximity</th>\n",
       "    </tr>\n",
       "  </thead>\n",
       "  <tbody>\n",
       "    <tr>\n",
       "      <td>3608</td>\n",
       "      <td>-118.46</td>\n",
       "      <td>34.23</td>\n",
       "      <td>16.0</td>\n",
       "      <td>6338.0</td>\n",
       "      <td>1768.0</td>\n",
       "      <td>4718.0</td>\n",
       "      <td>1632.0</td>\n",
       "      <td>3.0187</td>\n",
       "      <td>154600.0</td>\n",
       "      <td>&lt;1H OCEAN</td>\n",
       "    </tr>\n",
       "    <tr>\n",
       "      <td>8880</td>\n",
       "      <td>-118.49</td>\n",
       "      <td>34.04</td>\n",
       "      <td>31.0</td>\n",
       "      <td>4066.0</td>\n",
       "      <td>951.0</td>\n",
       "      <td>1532.0</td>\n",
       "      <td>868.0</td>\n",
       "      <td>4.8125</td>\n",
       "      <td>500001.0</td>\n",
       "      <td>&lt;1H OCEAN</td>\n",
       "    </tr>\n",
       "    <tr>\n",
       "      <td>15994</td>\n",
       "      <td>-122.47</td>\n",
       "      <td>37.76</td>\n",
       "      <td>48.0</td>\n",
       "      <td>2464.0</td>\n",
       "      <td>459.0</td>\n",
       "      <td>1179.0</td>\n",
       "      <td>458.0</td>\n",
       "      <td>4.4946</td>\n",
       "      <td>358600.0</td>\n",
       "      <td>NEAR BAY</td>\n",
       "    </tr>\n",
       "    <tr>\n",
       "      <td>2167</td>\n",
       "      <td>-119.83</td>\n",
       "      <td>36.78</td>\n",
       "      <td>30.0</td>\n",
       "      <td>3162.0</td>\n",
       "      <td>640.0</td>\n",
       "      <td>1660.0</td>\n",
       "      <td>639.0</td>\n",
       "      <td>2.8359</td>\n",
       "      <td>80300.0</td>\n",
       "      <td>INLAND</td>\n",
       "    </tr>\n",
       "    <tr>\n",
       "      <td>16525</td>\n",
       "      <td>-121.20</td>\n",
       "      <td>37.79</td>\n",
       "      <td>36.0</td>\n",
       "      <td>866.0</td>\n",
       "      <td>160.0</td>\n",
       "      <td>502.0</td>\n",
       "      <td>149.0</td>\n",
       "      <td>2.4798</td>\n",
       "      <td>101500.0</td>\n",
       "      <td>INLAND</td>\n",
       "    </tr>\n",
       "  </tbody>\n",
       "</table>\n",
       "</div>"
      ],
      "text/plain": [
       "       longitude  latitude  housing_median_age  total_rooms  total_bedrooms  \\\n",
       "3608     -118.46     34.23                16.0       6338.0          1768.0   \n",
       "8880     -118.49     34.04                31.0       4066.0           951.0   \n",
       "15994    -122.47     37.76                48.0       2464.0           459.0   \n",
       "2167     -119.83     36.78                30.0       3162.0           640.0   \n",
       "16525    -121.20     37.79                36.0        866.0           160.0   \n",
       "\n",
       "       population  households  median_income  median_house_value  \\\n",
       "3608       4718.0      1632.0         3.0187            154600.0   \n",
       "8880       1532.0       868.0         4.8125            500001.0   \n",
       "15994      1179.0       458.0         4.4946            358600.0   \n",
       "2167       1660.0       639.0         2.8359             80300.0   \n",
       "16525       502.0       149.0         2.4798            101500.0   \n",
       "\n",
       "      ocean_proximity  \n",
       "3608        <1H OCEAN  \n",
       "8880        <1H OCEAN  \n",
       "15994        NEAR BAY  \n",
       "2167           INLAND  \n",
       "16525          INLAND  "
      ]
     },
     "execution_count": 2,
     "metadata": {},
     "output_type": "execute_result"
    }
   ],
   "source": [
    "housing_data = pd.read_csv('datasets/housing.csv')\n",
    "housing_data.sample(5)"
   ]
  },
  {
   "cell_type": "code",
   "execution_count": 3,
   "metadata": {},
   "outputs": [
    {
     "data": {
      "text/plain": [
       "(20433, 10)"
      ]
     },
     "execution_count": 3,
     "metadata": {},
     "output_type": "execute_result"
    }
   ],
   "source": [
    "housing_data = housing_data.dropna()\n",
    "housing_data.shape"
   ]
  },
  {
   "cell_type": "code",
   "execution_count": 4,
   "metadata": {},
   "outputs": [],
   "source": [
    "housing_data = housing_data.drop(housing_data.loc[housing_data['median_house_value'] == 500001].index)"
   ]
  },
  {
   "cell_type": "code",
   "execution_count": 5,
   "metadata": {},
   "outputs": [
    {
     "data": {
      "text/plain": [
       "(19475, 10)"
      ]
     },
     "execution_count": 5,
     "metadata": {},
     "output_type": "execute_result"
    }
   ],
   "source": [
    "housing_data.shape"
   ]
  },
  {
   "cell_type": "markdown",
   "metadata": {},
   "source": [
    "### One-Hot Encode Ocean Proximity (category data) as Numeric"
   ]
  },
  {
   "cell_type": "code",
   "execution_count": 6,
   "metadata": {},
   "outputs": [],
   "source": [
    "housing_data = pd.get_dummies(housing_data, columns=['ocean_proximity'])"
   ]
  },
  {
   "cell_type": "code",
   "execution_count": 7,
   "metadata": {},
   "outputs": [
    {
     "data": {
      "text/html": [
       "<div>\n",
       "<style scoped>\n",
       "    .dataframe tbody tr th:only-of-type {\n",
       "        vertical-align: middle;\n",
       "    }\n",
       "\n",
       "    .dataframe tbody tr th {\n",
       "        vertical-align: top;\n",
       "    }\n",
       "\n",
       "    .dataframe thead th {\n",
       "        text-align: right;\n",
       "    }\n",
       "</style>\n",
       "<table border=\"1\" class=\"dataframe\">\n",
       "  <thead>\n",
       "    <tr style=\"text-align: right;\">\n",
       "      <th></th>\n",
       "      <th>longitude</th>\n",
       "      <th>latitude</th>\n",
       "      <th>housing_median_age</th>\n",
       "      <th>total_rooms</th>\n",
       "      <th>total_bedrooms</th>\n",
       "      <th>population</th>\n",
       "      <th>households</th>\n",
       "      <th>median_income</th>\n",
       "      <th>median_house_value</th>\n",
       "      <th>ocean_proximity_&lt;1H OCEAN</th>\n",
       "      <th>ocean_proximity_INLAND</th>\n",
       "      <th>ocean_proximity_ISLAND</th>\n",
       "      <th>ocean_proximity_NEAR BAY</th>\n",
       "      <th>ocean_proximity_NEAR OCEAN</th>\n",
       "    </tr>\n",
       "  </thead>\n",
       "  <tbody>\n",
       "    <tr>\n",
       "      <td>12282</td>\n",
       "      <td>-116.79</td>\n",
       "      <td>33.99</td>\n",
       "      <td>16.0</td>\n",
       "      <td>319.0</td>\n",
       "      <td>68.0</td>\n",
       "      <td>212.0</td>\n",
       "      <td>67.0</td>\n",
       "      <td>1.4688</td>\n",
       "      <td>90000.0</td>\n",
       "      <td>0</td>\n",
       "      <td>1</td>\n",
       "      <td>0</td>\n",
       "      <td>0</td>\n",
       "      <td>0</td>\n",
       "    </tr>\n",
       "    <tr>\n",
       "      <td>3555</td>\n",
       "      <td>-118.59</td>\n",
       "      <td>34.23</td>\n",
       "      <td>17.0</td>\n",
       "      <td>6592.0</td>\n",
       "      <td>1525.0</td>\n",
       "      <td>4459.0</td>\n",
       "      <td>1463.0</td>\n",
       "      <td>3.0347</td>\n",
       "      <td>254500.0</td>\n",
       "      <td>1</td>\n",
       "      <td>0</td>\n",
       "      <td>0</td>\n",
       "      <td>0</td>\n",
       "      <td>0</td>\n",
       "    </tr>\n",
       "    <tr>\n",
       "      <td>1252</td>\n",
       "      <td>-122.51</td>\n",
       "      <td>39.30</td>\n",
       "      <td>19.0</td>\n",
       "      <td>1629.0</td>\n",
       "      <td>386.0</td>\n",
       "      <td>551.0</td>\n",
       "      <td>214.0</td>\n",
       "      <td>1.7463</td>\n",
       "      <td>68800.0</td>\n",
       "      <td>0</td>\n",
       "      <td>1</td>\n",
       "      <td>0</td>\n",
       "      <td>0</td>\n",
       "      <td>0</td>\n",
       "    </tr>\n",
       "    <tr>\n",
       "      <td>12504</td>\n",
       "      <td>-121.44</td>\n",
       "      <td>38.56</td>\n",
       "      <td>45.0</td>\n",
       "      <td>2423.0</td>\n",
       "      <td>466.0</td>\n",
       "      <td>873.0</td>\n",
       "      <td>438.0</td>\n",
       "      <td>3.7167</td>\n",
       "      <td>131900.0</td>\n",
       "      <td>0</td>\n",
       "      <td>1</td>\n",
       "      <td>0</td>\n",
       "      <td>0</td>\n",
       "      <td>0</td>\n",
       "    </tr>\n",
       "    <tr>\n",
       "      <td>19129</td>\n",
       "      <td>-122.67</td>\n",
       "      <td>38.24</td>\n",
       "      <td>29.0</td>\n",
       "      <td>2644.0</td>\n",
       "      <td>464.0</td>\n",
       "      <td>1372.0</td>\n",
       "      <td>450.0</td>\n",
       "      <td>5.0544</td>\n",
       "      <td>261800.0</td>\n",
       "      <td>1</td>\n",
       "      <td>0</td>\n",
       "      <td>0</td>\n",
       "      <td>0</td>\n",
       "      <td>0</td>\n",
       "    </tr>\n",
       "  </tbody>\n",
       "</table>\n",
       "</div>"
      ],
      "text/plain": [
       "       longitude  latitude  housing_median_age  total_rooms  total_bedrooms  \\\n",
       "12282    -116.79     33.99                16.0        319.0            68.0   \n",
       "3555     -118.59     34.23                17.0       6592.0          1525.0   \n",
       "1252     -122.51     39.30                19.0       1629.0           386.0   \n",
       "12504    -121.44     38.56                45.0       2423.0           466.0   \n",
       "19129    -122.67     38.24                29.0       2644.0           464.0   \n",
       "\n",
       "       population  households  median_income  median_house_value  \\\n",
       "12282       212.0        67.0         1.4688             90000.0   \n",
       "3555       4459.0      1463.0         3.0347            254500.0   \n",
       "1252        551.0       214.0         1.7463             68800.0   \n",
       "12504       873.0       438.0         3.7167            131900.0   \n",
       "19129      1372.0       450.0         5.0544            261800.0   \n",
       "\n",
       "       ocean_proximity_<1H OCEAN  ocean_proximity_INLAND  \\\n",
       "12282                          0                       1   \n",
       "3555                           1                       0   \n",
       "1252                           0                       1   \n",
       "12504                          0                       1   \n",
       "19129                          1                       0   \n",
       "\n",
       "       ocean_proximity_ISLAND  ocean_proximity_NEAR BAY  \\\n",
       "12282                       0                         0   \n",
       "3555                        0                         0   \n",
       "1252                        0                         0   \n",
       "12504                       0                         0   \n",
       "19129                       0                         0   \n",
       "\n",
       "       ocean_proximity_NEAR OCEAN  \n",
       "12282                           0  \n",
       "3555                            0  \n",
       "1252                            0  \n",
       "12504                           0  \n",
       "19129                           0  "
      ]
     },
     "execution_count": 7,
     "metadata": {},
     "output_type": "execute_result"
    }
   ],
   "source": [
    "housing_data.sample(5)"
   ]
  },
  {
   "cell_type": "code",
   "execution_count": 9,
   "metadata": {},
   "outputs": [
    {
     "data": {
      "text/plain": [
       "173800.0"
      ]
     },
     "execution_count": 9,
     "metadata": {},
     "output_type": "execute_result"
    }
   ],
   "source": [
    "median = housing_data['median_house_value'].median()\n",
    "median"
   ]
  },
  {
   "cell_type": "markdown",
   "metadata": {},
   "source": [
    "### Add new column based on median above_median"
   ]
  },
  {
   "cell_type": "code",
   "execution_count": 10,
   "metadata": {},
   "outputs": [],
   "source": [
    "housing_data['above_median'] = (housing_data['median_house_value'] - median) > 0"
   ]
  },
  {
   "cell_type": "code",
   "execution_count": 12,
   "metadata": {},
   "outputs": [
    {
     "data": {
      "text/html": [
       "<div>\n",
       "<style scoped>\n",
       "    .dataframe tbody tr th:only-of-type {\n",
       "        vertical-align: middle;\n",
       "    }\n",
       "\n",
       "    .dataframe tbody tr th {\n",
       "        vertical-align: top;\n",
       "    }\n",
       "\n",
       "    .dataframe thead th {\n",
       "        text-align: right;\n",
       "    }\n",
       "</style>\n",
       "<table border=\"1\" class=\"dataframe\">\n",
       "  <thead>\n",
       "    <tr style=\"text-align: right;\">\n",
       "      <th></th>\n",
       "      <th>longitude</th>\n",
       "      <th>latitude</th>\n",
       "      <th>housing_median_age</th>\n",
       "      <th>total_rooms</th>\n",
       "      <th>total_bedrooms</th>\n",
       "      <th>population</th>\n",
       "      <th>households</th>\n",
       "      <th>median_income</th>\n",
       "      <th>median_house_value</th>\n",
       "      <th>ocean_proximity_&lt;1H OCEAN</th>\n",
       "      <th>ocean_proximity_INLAND</th>\n",
       "      <th>ocean_proximity_ISLAND</th>\n",
       "      <th>ocean_proximity_NEAR BAY</th>\n",
       "      <th>ocean_proximity_NEAR OCEAN</th>\n",
       "      <th>above_median</th>\n",
       "    </tr>\n",
       "  </thead>\n",
       "  <tbody>\n",
       "    <tr>\n",
       "      <td>842</td>\n",
       "      <td>-122.07</td>\n",
       "      <td>37.59</td>\n",
       "      <td>13.0</td>\n",
       "      <td>2578.0</td>\n",
       "      <td>551.0</td>\n",
       "      <td>1680.0</td>\n",
       "      <td>528.0</td>\n",
       "      <td>4.8250</td>\n",
       "      <td>222000.0</td>\n",
       "      <td>0</td>\n",
       "      <td>0</td>\n",
       "      <td>0</td>\n",
       "      <td>1</td>\n",
       "      <td>0</td>\n",
       "      <td>True</td>\n",
       "    </tr>\n",
       "    <tr>\n",
       "      <td>6713</td>\n",
       "      <td>-118.18</td>\n",
       "      <td>34.13</td>\n",
       "      <td>44.0</td>\n",
       "      <td>2734.0</td>\n",
       "      <td>415.0</td>\n",
       "      <td>1057.0</td>\n",
       "      <td>424.0</td>\n",
       "      <td>7.9213</td>\n",
       "      <td>477800.0</td>\n",
       "      <td>1</td>\n",
       "      <td>0</td>\n",
       "      <td>0</td>\n",
       "      <td>0</td>\n",
       "      <td>0</td>\n",
       "      <td>True</td>\n",
       "    </tr>\n",
       "    <tr>\n",
       "      <td>18220</td>\n",
       "      <td>-122.07</td>\n",
       "      <td>37.40</td>\n",
       "      <td>15.0</td>\n",
       "      <td>2940.0</td>\n",
       "      <td>910.0</td>\n",
       "      <td>943.0</td>\n",
       "      <td>711.0</td>\n",
       "      <td>4.3590</td>\n",
       "      <td>192200.0</td>\n",
       "      <td>0</td>\n",
       "      <td>0</td>\n",
       "      <td>0</td>\n",
       "      <td>1</td>\n",
       "      <td>0</td>\n",
       "      <td>True</td>\n",
       "    </tr>\n",
       "    <tr>\n",
       "      <td>6173</td>\n",
       "      <td>-117.93</td>\n",
       "      <td>34.08</td>\n",
       "      <td>36.0</td>\n",
       "      <td>1371.0</td>\n",
       "      <td>246.0</td>\n",
       "      <td>806.0</td>\n",
       "      <td>241.0</td>\n",
       "      <td>4.5078</td>\n",
       "      <td>187100.0</td>\n",
       "      <td>1</td>\n",
       "      <td>0</td>\n",
       "      <td>0</td>\n",
       "      <td>0</td>\n",
       "      <td>0</td>\n",
       "      <td>True</td>\n",
       "    </tr>\n",
       "    <tr>\n",
       "      <td>526</td>\n",
       "      <td>-122.25</td>\n",
       "      <td>37.77</td>\n",
       "      <td>52.0</td>\n",
       "      <td>2650.0</td>\n",
       "      <td>566.0</td>\n",
       "      <td>1468.0</td>\n",
       "      <td>567.0</td>\n",
       "      <td>3.0161</td>\n",
       "      <td>215700.0</td>\n",
       "      <td>0</td>\n",
       "      <td>0</td>\n",
       "      <td>0</td>\n",
       "      <td>1</td>\n",
       "      <td>0</td>\n",
       "      <td>True</td>\n",
       "    </tr>\n",
       "  </tbody>\n",
       "</table>\n",
       "</div>"
      ],
      "text/plain": [
       "       longitude  latitude  housing_median_age  total_rooms  total_bedrooms  \\\n",
       "842      -122.07     37.59                13.0       2578.0           551.0   \n",
       "6713     -118.18     34.13                44.0       2734.0           415.0   \n",
       "18220    -122.07     37.40                15.0       2940.0           910.0   \n",
       "6173     -117.93     34.08                36.0       1371.0           246.0   \n",
       "526      -122.25     37.77                52.0       2650.0           566.0   \n",
       "\n",
       "       population  households  median_income  median_house_value  \\\n",
       "842        1680.0       528.0         4.8250            222000.0   \n",
       "6713       1057.0       424.0         7.9213            477800.0   \n",
       "18220       943.0       711.0         4.3590            192200.0   \n",
       "6173        806.0       241.0         4.5078            187100.0   \n",
       "526        1468.0       567.0         3.0161            215700.0   \n",
       "\n",
       "       ocean_proximity_<1H OCEAN  ocean_proximity_INLAND  \\\n",
       "842                            0                       0   \n",
       "6713                           1                       0   \n",
       "18220                          0                       0   \n",
       "6173                           1                       0   \n",
       "526                            0                       0   \n",
       "\n",
       "       ocean_proximity_ISLAND  ocean_proximity_NEAR BAY  \\\n",
       "842                         0                         1   \n",
       "6713                        0                         0   \n",
       "18220                       0                         1   \n",
       "6173                        0                         0   \n",
       "526                         0                         1   \n",
       "\n",
       "       ocean_proximity_NEAR OCEAN  above_median  \n",
       "842                             0          True  \n",
       "6713                            0          True  \n",
       "18220                           0          True  \n",
       "6173                            0          True  \n",
       "526                             0          True  "
      ]
     },
     "execution_count": 12,
     "metadata": {},
     "output_type": "execute_result"
    }
   ],
   "source": [
    "housing_data.sample(5)"
   ]
  },
  {
   "cell_type": "markdown",
   "metadata": {},
   "source": [
    "### Setup the features"
   ]
  },
  {
   "cell_type": "code",
   "execution_count": 14,
   "metadata": {},
   "outputs": [],
   "source": [
    "X = housing_data.drop(['median_house_value', 'above_median'], axis=1)\n",
    "Y = housing_data['above_median']"
   ]
  },
  {
   "cell_type": "code",
   "execution_count": 16,
   "metadata": {},
   "outputs": [
    {
     "data": {
      "text/plain": [
       "(19475, 13)"
      ]
     },
     "execution_count": 16,
     "metadata": {},
     "output_type": "execute_result"
    }
   ],
   "source": [
    "X.shape"
   ]
  },
  {
   "cell_type": "code",
   "execution_count": null,
   "metadata": {},
   "outputs": [],
   "source": []
  }
 ],
 "metadata": {
  "kernelspec": {
   "display_name": "Python 3",
   "language": "python",
   "name": "python3"
  },
  "language_info": {
   "codemirror_mode": {
    "name": "ipython",
    "version": 3
   },
   "file_extension": ".py",
   "mimetype": "text/x-python",
   "name": "python",
   "nbconvert_exporter": "python",
   "pygments_lexer": "ipython3",
   "version": "3.7.3"
  }
 },
 "nbformat": 4,
 "nbformat_minor": 4
}
